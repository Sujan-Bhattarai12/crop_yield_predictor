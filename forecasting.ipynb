# considering temperature rise by 1.5 degrees Celsius and having temperature at 25 creates 0.6 hectares more corn, what 
would be the future predicted corn, holding all variables constant.

