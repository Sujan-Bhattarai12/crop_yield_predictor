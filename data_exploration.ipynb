{
 "cells": [
  {
   "cell_type": "code",
   "execution_count": null,
   "id": "bf74ddf1",
   "metadata": {},
   "outputs": [],
   "source": [
    "# look for descriptive statistics"
   ]
  },
  {
   "cell_type": "code",
   "execution_count": null,
   "id": "aa5f970e",
   "metadata": {},
   "outputs": [],
   "source": [
    "# plot the boxplot of the data\n"
   ]
  },
  {
   "cell_type": "code",
   "execution_count": null,
   "id": "d3ca55c7",
   "metadata": {},
   "outputs": [],
   "source": [
    "# plot different trends by country "
   ]
  },
  {
   "cell_type": "code",
   "execution_count": null,
   "id": "e5a22bd3",
   "metadata": {},
   "outputs": [],
   "source": [
    "# "
   ]
  }
 ],
 "metadata": {
  "language_info": {
   "name": "python"
  }
 },
 "nbformat": 4,
 "nbformat_minor": 5
}
