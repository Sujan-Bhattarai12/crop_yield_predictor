{
 "cells": [
  {
   "cell_type": "markdown",
   "id": "a8907f3b",
   "metadata": {},
   "source": [
    "### Causal Inference on Corn Yield: The Impact of High Temperature\n",
    "\n",
    "Crop yields are influenced by various environmental factors. To help farmers optimize yields effectively, it is important to identify which variables have the most significant impact and prioritize them based on cost and feasibility of control.\n",
    "\n",
    "This project applies causal inference methods to quantify the impact of high temperature on corn yield. Using a global corn species dataset sourced from Kaggle, the study controls for possible confounders to satisfy the ignorability assumption, ensuring reliable causal estimates.\n",
    "\n",
    "Specifically, temperature values in the upper quartile are treated as the \"treatment\" group, while those in the lower quartile serve as the control group. The median temperature in the upper quartile is 25°C, and in the lower quartile, it is 5°C.\n",
    "\n",
    "The primary goal is to estimate how much higher temperatures (upper quartile) affect corn yield compared to lower temperatures (lower quartile). The findings provide actionable insights for farmers, enabling them to regulate greenhouse temperatures and maximize crop yield efficiently."
   ]
  },
  {
   "cell_type": "code",
   "execution_count": 1,
   "id": "742b1131",
   "metadata": {},
   "outputs": [],
   "source": [
    "# Make sure your data_cleaning.py is in the same folder or in your PYTHONPATH\n",
    "from dataCleaning import load_data, clean_data\n",
    "\n",
    "df = load_data(\"climate_change_impact_on_agriculture_2024.csv\")\n",
    "df_clean = clean_data(df)\n"
   ]
  },
  {
   "cell_type": "code",
   "execution_count": 2,
   "id": "63bc29a7",
   "metadata": {},
   "outputs": [
    {
     "name": "stdout",
     "output_type": "stream",
     "text": [
      "Treatment Threshold (75th percentile): 25.0925\n",
      "Control Threshold (25th percentile): 5.745\n"
     ]
    }
   ],
   "source": [
    "# from this dataset, for 6 variables, i will do propensity score matching and see how much temperature has an impact on crop yield\n",
    "# select relevant columns for propensity score matching\n",
    "\n",
    "# filter for just corn from df\n",
    "psm_data = df[df['Crop_Type'] == 'Corn'][['Total_Precipitation_mm', 'Average_Temperature_C', 'Irrigation_Access_percent', 'Fertilizer_Use_KG_per_HA', 'Soil_Health_Index', 'Crop_Yield_MT_per_HA']]\n",
    "\n",
    "# drop rows with missing values\n",
    "psm_data = psm_data.dropna()\n",
    "\n",
    "# create a binary treatment variable based on Average_Temperature_C, select 3rd quartile and higher as treatmnt group and frist quartile and lower as control group\n",
    "treatment_threshold = psm_data['Average_Temperature_C'].quantile(0.75)\n",
    "\n",
    "# craete antoehr threshold at 25th percentile for control group\n",
    "control_threshold = psm_data['Average_Temperature_C'].quantile(0.25)\n",
    "\n",
    "# print the thresholds\n",
    "print(\"Treatment Threshold (75th percentile):\", treatment_threshold)\n",
    "print(\"Control Threshold (25th percentile):\", control_threshold)"
   ]
  },
  {
   "cell_type": "code",
   "execution_count": 3,
   "id": "7b960548",
   "metadata": {},
   "outputs": [
    {
     "name": "stdout",
     "output_type": "stream",
     "text": [
      "    Total_Precipitation_mm  Average_Temperature_C  Irrigation_Access_percent  \\\n",
      "0                   447.06                   1.55                      14.54   \n",
      "1                  2913.57                   3.23                      11.05   \n",
      "27                 1433.31                  15.75                      79.20   \n",
      "66                 2317.59                  15.76                      94.85   \n",
      "67                 2310.19                   9.97                      19.87   \n",
      "\n",
      "    Fertilizer_Use_KG_per_HA  Soil_Health_Index  Crop_Yield_MT_per_HA  \\\n",
      "0                      14.78              83.25                 1.737   \n",
      "1                      23.25              54.02                 1.737   \n",
      "27                     67.56              55.03                 2.080   \n",
      "66                     35.76              48.60                 3.807   \n",
      "67                      5.83              97.48                 1.053   \n",
      "\n",
      "    Treatment  \n",
      "0         0.0  \n",
      "1         0.0  \n",
      "27        NaN  \n",
      "66        NaN  \n",
      "67        NaN  \n"
     ]
    }
   ],
   "source": [
    "# create new column assignment treatment group if greater than treatment threshold, treatment group if less than control threshold, and control group otherwise\n",
    "import numpy as np\n",
    "\n",
    "psm_data['Treatment'] = np.where(\n",
    "    psm_data['Average_Temperature_C'] >= treatment_threshold, 1,\n",
    "    np.where(psm_data['Average_Temperature_C'] <= control_threshold, 0, np.nan)\n",
    ")\n",
    "# print the first few rows of the psm_data\n",
    "print(psm_data.head())"
   ]
  },
  {
   "cell_type": "code",
   "execution_count": 4,
   "id": "eff74207",
   "metadata": {},
   "outputs": [
    {
     "name": "stdout",
     "output_type": "stream",
     "text": [
      "Treatment                    510\n",
      "Total_Precipitation_mm         0\n",
      "Average_Temperature_C          0\n",
      "Irrigation_Access_percent      0\n",
      "Fertilizer_Use_KG_per_HA       0\n",
      "Soil_Health_Index              0\n",
      "dtype: int64\n",
      "Total_Precipitation_mm       float64\n",
      "Average_Temperature_C        float64\n",
      "Irrigation_Access_percent    float64\n",
      "Fertilizer_Use_KG_per_HA     float64\n",
      "Soil_Health_Index            float64\n",
      "Crop_Yield_MT_per_HA         float64\n",
      "Treatment                    float64\n",
      "dtype: object\n"
     ]
    }
   ],
   "source": [
    "print(psm_data[['Treatment', 'Total_Precipitation_mm', 'Average_Temperature_C', 'Irrigation_Access_percent', 'Fertilizer_Use_KG_per_HA', 'Soil_Health_Index']].isnull().sum())\n",
    "\n",
    "# remote rows with missing values in the Treatment column\n",
    "psm_data = psm_data.dropna(subset=['Treatment'])\n",
    "\n",
    "# check data type for all columns\n",
    "print(psm_data.dtypes)"
   ]
  },
  {
   "cell_type": "code",
   "execution_count": 5,
   "id": "9c1530c0",
   "metadata": {},
   "outputs": [
    {
     "name": "stdout",
     "output_type": "stream",
     "text": [
      "Total_Precipitation_mm       float64\n",
      "Average_Temperature_C        float64\n",
      "Irrigation_Access_percent    float64\n",
      "Fertilizer_Use_KG_per_HA     float64\n",
      "Soil_Health_Index            float64\n",
      "Crop_Yield_MT_per_HA         float64\n",
      "Treatment                      int64\n",
      "dtype: object\n"
     ]
    }
   ],
   "source": [
    "psm_data['Treatment'] = psm_data['Treatment'].astype(int)\n",
    "\n",
    "# check the data types again for treatment column\n",
    "print(psm_data.dtypes)\n"
   ]
  },
  {
   "cell_type": "code",
   "execution_count": 6,
   "id": "4e33a615",
   "metadata": {},
   "outputs": [
    {
     "ename": "NameError",
     "evalue": "name 'smf' is not defined",
     "output_type": "error",
     "traceback": [
      "\u001b[0;31m---------------------------------------------------------------------------\u001b[0m",
      "\u001b[0;31mNameError\u001b[0m                                 Traceback (most recent call last)",
      "Cell \u001b[0;32mIn[6], line 1\u001b[0m\n\u001b[0;32m----> 1\u001b[0m psm_model \u001b[38;5;241m=\u001b[39m \u001b[43msmf\u001b[49m\u001b[38;5;241m.\u001b[39mlogit(\n\u001b[1;32m      2\u001b[0m     \u001b[38;5;124m'\u001b[39m\u001b[38;5;124mTreatment ~ Total_Precipitation_mm + Fertilizer_Use_KG_per_HA + Irrigation_Access_percent + Soil_Health_Index\u001b[39m\u001b[38;5;124m'\u001b[39m,\n\u001b[1;32m      3\u001b[0m     data\u001b[38;5;241m=\u001b[39mpsm_data\n\u001b[1;32m      4\u001b[0m )\u001b[38;5;241m.\u001b[39mfit()\n\u001b[1;32m      6\u001b[0m \u001b[38;5;66;03m# add the value in propensity score column\u001b[39;00m\n\u001b[1;32m      7\u001b[0m psm_data[\u001b[38;5;124m'\u001b[39m\u001b[38;5;124mPropensity_Score\u001b[39m\u001b[38;5;124m'\u001b[39m] \u001b[38;5;241m=\u001b[39m psm_model\u001b[38;5;241m.\u001b[39mpredict(psm_data)\n",
      "\u001b[0;31mNameError\u001b[0m: name 'smf' is not defined"
     ]
    }
   ],
   "source": [
    "psm_model = smf.logit(\n",
    "    'Treatment ~ Total_Precipitation_mm + Fertilizer_Use_KG_per_HA + Irrigation_Access_percent + Soil_Health_Index',\n",
    "    data=psm_data\n",
    ").fit()\n",
    "\n",
    "# add the value in propensity score column\n",
    "psm_data['Propensity_Score'] = psm_model.predict(psm_data)\n",
    "\n",
    "# print the first few rows of psm_data with propensity score\n",
    "print(psm_data['Propensity_Score'].head())\n",
    "\n",
    "# count total rows\n",
    "print(\"Total rows after adding propensity score:\", psm_data.shape[0])"
   ]
  },
  {
   "cell_type": "code",
   "execution_count": null,
   "id": "93fe446c",
   "metadata": {},
   "outputs": [
    {
     "name": "stdout",
     "output_type": "stream",
     "text": [
      "Matched dataset shape: (512, 8)\n"
     ]
    }
   ],
   "source": [
    "from sklearn.neighbors import NearestNeighbors\n",
    "\n",
    "# Split treated and control units\n",
    "treated = psm_data[psm_data['Treatment'] == 1]\n",
    "control = psm_data[psm_data['Treatment'] == 0]\n",
    "\n",
    "# Fit nearest neighbors on control group\n",
    "nn = NearestNeighbors(n_neighbors=1)\n",
    "nn.fit(control[['Propensity_Score']])\n",
    "\n",
    "# Find nearest neighbor in control for each treated\n",
    "distances, indices = nn.kneighbors(treated[['Propensity_Score']])\n",
    "\n",
    "# Get matched control units\n",
    "matched_controls = control.iloc[indices.flatten()].copy()\n",
    "matched_controls.index = treated.index  # align indices for merging\n",
    "\n",
    "# Combine matched treated and control units\n",
    "matched_data = pd.concat([treated, matched_controls])\n",
    "\n",
    "print(\"Matched dataset shape:\", matched_data.shape)\n"
   ]
  },
  {
   "cell_type": "code",
   "execution_count": null,
   "id": "943d60a3",
   "metadata": {},
   "outputs": [
    {
     "name": "stdout",
     "output_type": "stream",
     "text": [
      "     Total_Precipitation_mm  Average_Temperature_C  Irrigation_Access_percent  \\\n",
      "99                  1836.63                  32.28                      37.67   \n",
      "125                 1704.94                  25.49                      48.66   \n",
      "187                 2108.28                  32.57                      65.66   \n",
      "195                 2816.57                  34.88                      54.64   \n",
      "201                 2395.28                  28.55                      30.69   \n",
      "\n",
      "     Fertilizer_Use_KG_per_HA  Soil_Health_Index  Crop_Yield_MT_per_HA  \\\n",
      "99                      29.79              35.55                 3.420   \n",
      "125                     64.11              45.40                 1.611   \n",
      "187                     11.06              86.38                 3.141   \n",
      "195                     58.32              53.06                 1.035   \n",
      "201                      9.43              31.11                 2.170   \n",
      "\n",
      "     Treatment  Propensity_Score Matching_Status  \n",
      "99           1          0.541879  After Matching  \n",
      "125          1          0.520484  After Matching  \n",
      "187          1          0.489278  After Matching  \n",
      "195          1          0.522512  After Matching  \n",
      "201          1          0.555761  After Matching  \n"
     ]
    }
   ],
   "source": [
    "# print the matched data\n",
    "print(matched_data.head())"
   ]
  },
  {
   "cell_type": "code",
   "execution_count": null,
   "id": "86eed49b",
   "metadata": {},
   "outputs": [
    {
     "name": "stdout",
     "output_type": "stream",
     "text": [
      "Average Treatment Effect on the Treated (ATT): 0.6448906249999999\n"
     ]
    }
   ],
   "source": [
    "# calcuate average treatment effect on the treated (ATT)\n",
    "att = matched_data[matched_data['Treatment'] == 1]['Crop_Yield_MT_per_HA'].mean() - matched_data[matched_data['Treatment'] == 0]['Crop_Yield_MT_per_HA'].mean()\n",
    "\n",
    "# print the average treatment effect on the treated\n",
    "print(\"Average Treatment Effect on the Treated (ATT):\", att)"
   ]
  },
  {
   "cell_type": "code",
   "execution_count": null,
   "id": "81127d9a",
   "metadata": {},
   "outputs": [
    {
     "name": "stdout",
     "output_type": "stream",
     "text": [
      "T-statistic: 9.368879292115368\n",
      "P-value: 2.359553113714145e-19\n"
     ]
    }
   ],
   "source": [
    "# check the statistical significance of the ATT using a t-test\n",
    "from scipy import stats\n",
    "t_stat, p_value = stats.ttest_ind(\n",
    "    matched_data[matched_data['Treatment'] == 1]['Crop_Yield_MT_per_HA'],\n",
    "    matched_data[matched_data['Treatment'] == 0]['Crop_Yield_MT_per_HA']\n",
    ")\n",
    "# print the t-statistic and p-value\n",
    "print(\"T-statistic:\", t_stat)\n",
    "print(\"P-value:\", p_value)\n"
   ]
  },
  {
   "cell_type": "markdown",
   "id": "34e5d834",
   "metadata": {},
   "source": [
    "After adjusting for relevant confounding variables using propensity score matching, we found that the treatment (or temperature) has a statistically significant effect on the outcome. Specifically, the Average Treatment Effect on the Treated (ATT) is approximately 0.645 metric tons per hectare increase in crop yield.\n",
    "\n",
    "The associated p-value is less than 0.05, indicating that this effect is statistically significant at the 5% level — meaning the observed effect is unlikely to have occurred by chance.\n",
    "\n",
    "This suggests that, for the treated group, exposure to this treatment (or increase in temperature) leads to a meaningful increase in crop yield compared to if they had not received the treatment."
   ]
  }
 ],
 "metadata": {
  "kernelspec": {
   "display_name": "data-science",
   "language": "python",
   "name": "python3"
  },
  "language_info": {
   "codemirror_mode": {
    "name": "ipython",
    "version": 3
   },
   "file_extension": ".py",
   "mimetype": "text/x-python",
   "name": "python",
   "nbconvert_exporter": "python",
   "pygments_lexer": "ipython3",
   "version": "3.12.4"
  }
 },
 "nbformat": 4,
 "nbformat_minor": 5
}
