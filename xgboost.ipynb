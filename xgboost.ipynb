{
 "cells": [
  {
   "cell_type": "markdown",
   "id": "2362b3db",
   "metadata": {},
   "source": [
    "Accuracy is the top priority for this project. so xgboost is used as the model. "
   ]
  },
  {
   "cell_type": "code",
   "execution_count": 14,
   "id": "88e40e2f",
   "metadata": {},
   "outputs": [],
   "source": [
    "# import xgboost libraries\n",
    "import xgboost as xgb\n",
    "from xgboost import XGBClassifier, XGBRegressor\n",
    "import xgboost as xgb\n",
    "from sklearn.model_selection import train_test_split\n",
    "from sklearn.metrics import mean_squared_error\n",
    "import pandas as pd\n",
    "import shapely"
   ]
  },
  {
   "cell_type": "code",
   "execution_count": 15,
   "id": "9407d80c",
   "metadata": {},
   "outputs": [],
   "source": [
    "# Make sure your data_cleaning.py is in the same folder or in your PYTHONPATH\n",
    "from dataCleaning import load_data, clean_data\n",
    "\n",
    "df = load_data(\"climate_change_impact_on_agriculture_2024.csv\")\n",
    "df_clean = clean_data(df)"
   ]
  },
  {
   "cell_type": "code",
   "execution_count": 16,
   "id": "410c1f86",
   "metadata": {},
   "outputs": [],
   "source": [
    "# Load your data\n",
    "X = df_clean.drop(\"Crop_Yield_MT_per_HA\", axis=1)  # Replace with your target column name\n",
    "y = df_clean[\"Crop_Yield_MT_per_HA\"]\n",
    "\n",
    "# HOT ENCODE categorical variables\n",
    "X = pd.get_dummies(X, drop_first=True)"
   ]
  },
  {
   "cell_type": "code",
   "execution_count": 25,
   "id": "ce36eb17",
   "metadata": {},
   "outputs": [],
   "source": [
    "# Save features\n",
    "with open(\"model_features.txt\", \"w\") as f:\n",
    "    for col in X.columns:\n",
    "        f.write(f\"{col}\\n\")"
   ]
  },
  {
   "cell_type": "code",
   "execution_count": null,
   "id": "91fabfa2",
   "metadata": {},
   "outputs": [],
   "source": []
  },
  {
   "cell_type": "code",
   "execution_count": 17,
   "id": "248e1538",
   "metadata": {},
   "outputs": [
    {
     "name": "stdout",
     "output_type": "stream",
     "text": [
      "Test RMSE: 0.6626\n",
      "Test R-squared: 0.5840\n"
     ]
    }
   ],
   "source": [
    "# Step 1: Split into train+val and test\n",
    "X_temp, X_test, y_temp, y_test = train_test_split(X, y, test_size=0.2, random_state=42)\n",
    "\n",
    "# Step 2: Split train+val into train and validation\n",
    "X_train, X_val, y_train, y_val = train_test_split(X_temp, y_temp, test_size=0.25, random_state=42)\n",
    "# (0.25 * 0.8 = 0.2 → 60% train, 20% val, 20% test)\n",
    "\n",
    "# Initialize XGBoost model\n",
    "model = xgb.XGBRegressor(\n",
    "    objective='reg:squarederror',\n",
    "    eval_metric='rmse',\n",
    "    random_state=42\n",
    ")\n",
    "\n",
    "# Train model with validation\n",
    "model.fit(\n",
    "    X_train, y_train,\n",
    "    eval_set=[(X_val, y_val)],\n",
    "    verbose=False  # Set to True if you want to see training log\n",
    ")\n",
    "\n",
    "# Evaluate on test set\n",
    "y_pred = model.predict(X_test)\n",
    "rmse = mean_squared_error(y_test, y_pred, squared=False)\n",
    "print(f\"Test RMSE: {rmse:.4f}\")\n",
    "\n",
    "# Calculate R-squared\n",
    "from sklearn.metrics import r2_score\n",
    "r2 = r2_score(y_test, y_pred)\n",
    "print(f\"Test R-squared: {r2:.4f}\")\n"
   ]
  },
  {
   "cell_type": "code",
   "execution_count": 18,
   "id": "bc9a8f34",
   "metadata": {},
   "outputs": [
    {
     "name": "stdout",
     "output_type": "stream",
     "text": [
      "Fitting 3 folds for each of 36 candidates, totalling 108 fits\n"
     ]
    },
    {
     "name": "stdout",
     "output_type": "stream",
     "text": [
      "Best parameters: {'learning_rate': 0.1, 'max_depth': 3, 'n_estimators': 100, 'subsample': 1.0}\n",
      "Best cross-validated RMSE: 0.3851\n",
      "Test RMSE with best parameters: 0.6161\n",
      "Test R-squared with best parameters: 0.6404\n"
     ]
    }
   ],
   "source": [
    "# Tune the model using GridSearchCV\n",
    "from sklearn.model_selection import GridSearchCV\n",
    "param_grid = {\n",
    "    'n_estimators': [100, 200],\n",
    "    'max_depth': [3, 5, 7],\n",
    "    'learning_rate': [0.01, 0.1, 0.2],\n",
    "    'subsample': [0.8, 1.0]\n",
    "}\n",
    "grid_search = GridSearchCV(\n",
    "    estimator=model,\n",
    "    param_grid=param_grid,\n",
    "    scoring='neg_mean_squared_error',\n",
    "    cv=3,  # 3-fold cross-validation\n",
    "    verbose=1,\n",
    "    n_jobs=-1  # Use all available cores\n",
    ")\n",
    "# Fit the grid search\n",
    "grid_search.fit(X_train, y_train)\n",
    "# Get the best parameters and score\n",
    "best_params = grid_search.best_params_\n",
    "best_score = -grid_search.best_score_  # Negate because we used neg_mean_squared_error\n",
    "print(f\"Best parameters: {best_params}\")\n",
    "print(f\"Best cross-validated RMSE: {best_score:.4f}\")\n",
    "# Train the model with the best parameters\n",
    "model_best = XGBRegressor(\n",
    "    **best_params,\n",
    "    objective='reg:squarederror',\n",
    "    eval_metric='rmse',\n",
    "    random_state=42\n",
    ")\n",
    "model_best.fit(\n",
    "    X_train, y_train,\n",
    "    eval_set=[(X_val, y_val)],\n",
    "    verbose=False\n",
    ")\n",
    "# Evaluate the best model on the test set\n",
    "y_pred_best = model_best.predict(X_test)\n",
    "rmse_best = mean_squared_error(y_test, y_pred_best, squared=False)\n",
    "print(f\"Test RMSE with best parameters: {rmse_best:.4f}\")\n",
    "# Calculate R-squared for the best model\n",
    "r2_best = r2_score(y_test, y_pred_best)\n",
    "print(f\"Test R-squared with best parameters: {r2_best:.4f}\")\n"
   ]
  },
  {
   "cell_type": "code",
   "execution_count": 24,
   "id": "c2ef675f",
   "metadata": {},
   "outputs": [],
   "source": [
    "# Save\n",
    "model_best.save_model(\"xgboost_model.json\")"
   ]
  }
 ],
 "metadata": {
  "kernelspec": {
   "display_name": "data-science",
   "language": "python",
   "name": "python3"
  },
  "language_info": {
   "codemirror_mode": {
    "name": "ipython",
    "version": 3
   },
   "file_extension": ".py",
   "mimetype": "text/x-python",
   "name": "python",
   "nbconvert_exporter": "python",
   "pygments_lexer": "ipython3",
   "version": "3.12.4"
  }
 },
 "nbformat": 4,
 "nbformat_minor": 5
}
